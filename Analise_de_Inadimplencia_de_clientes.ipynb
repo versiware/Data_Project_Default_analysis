{
  "nbformat": 4,
  "nbformat_minor": 0,
  "metadata": {
    "colab": {
      "provenance": [],
      "authorship_tag": "ABX9TyNFoNUtD+O7NpQEKjskqi+n",
      "include_colab_link": true
    },
    "kernelspec": {
      "name": "python3",
      "display_name": "Python 3"
    },
    "language_info": {
      "name": "python"
    }
  },
  "cells": [
    {
      "cell_type": "markdown",
      "metadata": {
        "id": "view-in-github",
        "colab_type": "text"
      },
      "source": [
        "<a href=\"https://colab.research.google.com/github/versiware/Data_Project_Default_analysis/blob/criar-nova-pasta/Analise_de_Inadimplencia_de_clientes.ipynb\" target=\"_parent\"><img src=\"https://colab.research.google.com/assets/colab-badge.svg\" alt=\"Open In Colab\"/></a>"
      ]
    },
    {
      "cell_type": "markdown",
      "source": [
        "# **SD MAP and Beam Search: Análise de inadimplência de clientes**"
      ],
      "metadata": {
        "id": "pVAGpmhGX5dX"
      }
    },
    {
      "cell_type": "markdown",
      "source": [
        "*Importando Bibliotecas*"
      ],
      "metadata": {
        "id": "sXEkKJx9ZIOP"
      }
    },
    {
      "cell_type": "code",
      "source": [
        "!pip install pysubgroup\n",
        "import pandas as pd\n",
        "import pysubgroup as ps\n",
        "import numpy as np\n",
        "from sklearn.cluster import KMeans\n",
        "from sklearn.preprocessing import StandardScaler\n",
        "import matplotlib.pyplot as plt\n",
        "import seaborn as sns"
      ],
      "metadata": {
        "colab": {
          "base_uri": "https://localhost:8080/"
        },
        "id": "6RmofSEqYTdC",
        "outputId": "ea5f046d-8445-4eca-8a5f-c6f538dc1eaa"
      },
      "execution_count": null,
      "outputs": [
        {
          "output_type": "stream",
          "name": "stdout",
          "text": [
            "Collecting pysubgroup\n",
            "  Downloading pysubgroup-0.8.0-py3-none-any.whl.metadata (11 kB)\n",
            "Requirement already satisfied: pandas>=0.24.0 in /usr/local/lib/python3.11/dist-packages (from pysubgroup) (2.2.2)\n",
            "Requirement already satisfied: scipy in /usr/local/lib/python3.11/dist-packages (from pysubgroup) (1.15.3)\n",
            "Requirement already satisfied: numpy in /usr/local/lib/python3.11/dist-packages (from pysubgroup) (2.0.2)\n",
            "Requirement already satisfied: matplotlib in /usr/local/lib/python3.11/dist-packages (from pysubgroup) (3.10.0)\n",
            "Requirement already satisfied: python-dateutil>=2.8.2 in /usr/local/lib/python3.11/dist-packages (from pandas>=0.24.0->pysubgroup) (2.9.0.post0)\n",
            "Requirement already satisfied: pytz>=2020.1 in /usr/local/lib/python3.11/dist-packages (from pandas>=0.24.0->pysubgroup) (2025.2)\n",
            "Requirement already satisfied: tzdata>=2022.7 in /usr/local/lib/python3.11/dist-packages (from pandas>=0.24.0->pysubgroup) (2025.2)\n",
            "Requirement already satisfied: contourpy>=1.0.1 in /usr/local/lib/python3.11/dist-packages (from matplotlib->pysubgroup) (1.3.2)\n",
            "Requirement already satisfied: cycler>=0.10 in /usr/local/lib/python3.11/dist-packages (from matplotlib->pysubgroup) (0.12.1)\n",
            "Requirement already satisfied: fonttools>=4.22.0 in /usr/local/lib/python3.11/dist-packages (from matplotlib->pysubgroup) (4.58.4)\n",
            "Requirement already satisfied: kiwisolver>=1.3.1 in /usr/local/lib/python3.11/dist-packages (from matplotlib->pysubgroup) (1.4.8)\n",
            "Requirement already satisfied: packaging>=20.0 in /usr/local/lib/python3.11/dist-packages (from matplotlib->pysubgroup) (24.2)\n",
            "Requirement already satisfied: pillow>=8 in /usr/local/lib/python3.11/dist-packages (from matplotlib->pysubgroup) (11.2.1)\n",
            "Requirement already satisfied: pyparsing>=2.3.1 in /usr/local/lib/python3.11/dist-packages (from matplotlib->pysubgroup) (3.2.3)\n",
            "Requirement already satisfied: six>=1.5 in /usr/local/lib/python3.11/dist-packages (from python-dateutil>=2.8.2->pandas>=0.24.0->pysubgroup) (1.17.0)\n",
            "Downloading pysubgroup-0.8.0-py3-none-any.whl (70 kB)\n",
            "\u001b[2K   \u001b[90m━━━━━━━━━━━━━━━━━━━━━━━━━━━━━━━━━━━━━━━━\u001b[0m \u001b[32m70.5/70.5 kB\u001b[0m \u001b[31m2.0 MB/s\u001b[0m eta \u001b[36m0:00:00\u001b[0m\n",
            "\u001b[?25hInstalling collected packages: pysubgroup\n",
            "Successfully installed pysubgroup-0.8.0\n"
          ]
        }
      ]
    },
    {
      "cell_type": "markdown",
      "source": [
        "*Loading de Dados*"
      ],
      "metadata": {
        "id": "yP_0jhI-ZOln"
      }
    },
    {
      "cell_type": "code",
      "execution_count": null,
      "metadata": {
        "colab": {
          "base_uri": "https://localhost:8080/"
        },
        "id": "nQKzG06-XkhB",
        "outputId": "a0205b29-e481-41db-905a-4dcce578fc55"
      },
      "outputs": [
        {
          "output_type": "stream",
          "name": "stdout",
          "text": [
            "Shape inicial: (8950, 18)\n"
          ]
        }
      ],
      "source": [
        "data_path = '/content/CC GENERAL.csv'\n",
        "\n",
        "df = pd.read_csv(data_path)\n",
        "print(\"Shape inicial:\", df.shape)"
      ]
    },
    {
      "cell_type": "markdown",
      "source": [
        "*Substituindo valores nulos pela mediana da coluna*"
      ],
      "metadata": {
        "id": "22gSVIjZZdXm"
      }
    },
    {
      "cell_type": "code",
      "source": [
        "df = df.fillna(df.median(numeric_only=True))"
      ],
      "metadata": {
        "id": "cJCezpVyZ2KM"
      },
      "execution_count": null,
      "outputs": []
    },
    {
      "cell_type": "markdown",
      "source": [
        "*Encontrando subgrupos onde os valores médios de BALANCE sejam significativamente diferentes (mais altos ou mais baixos) do valor médio global*"
      ],
      "metadata": {
        "id": "p34ydsFfZ4OP"
      }
    },
    {
      "cell_type": "code",
      "source": [
        "target = ps.NumericTarget('BALANCE')\n",
        "search_space = ps.create_selectors(df, ignore=['CUST_ID', 'BALANCE'])\n",
        "quality_function = ps.StandardQFNumeric(a=0.5)"
      ],
      "metadata": {
        "id": "UnlRRmbMan1T"
      },
      "execution_count": null,
      "outputs": []
    },
    {
      "cell_type": "markdown",
      "source": [
        "*Criando a Tarefa de Subgrupos*"
      ],
      "metadata": {
        "id": "809918RgbWZq"
      }
    },
    {
      "cell_type": "code",
      "source": [
        "task = ps.SubgroupDiscoveryTask(\n",
        "    df,\n",
        "    target,\n",
        "    search_space,\n",
        "    result_set_size=10,\n",
        "    depth=3,\n",
        "    qf=quality_function\n",
        ")\n",
        "result = ps.BeamSearch().execute(task)\n",
        "\n",
        "media_global = df['BALANCE'].mean()\n",
        "df_results = result.to_dataframe()\n",
        "\n",
        "print(\"=\"*60)\n",
        "print(\"Análise Detalhada dos Subgrupos de Maior Impacto\")\n",
        "print(\"=\"*60)\n",
        "print(f\"Média Global: R$ {media_global:,.2f}\")\n",
        "\n",
        "for index, row in df_results.iterrows():\n",
        "    # Coletando os valores da linha\n",
        "    qualidade = row['quality']\n",
        "    descricao = row['subgroup']\n",
        "    tamanho_subgrupo = row['size_sg']\n",
        "    media_sg = row['mean_sg']\n",
        "\n",
        "    # Imprimindo o \"card\" de resultado para cada subgrupo\n",
        "    print(f\"Qualidade: {qualidade:.3f} | Subgrupo: {descricao}\")\n",
        "    print(f\"   > Tamanho: {tamanho_subgrupo:,.0f} cartões\")\n",
        "    print(f\"   > Média do Subgrupo: R$ {media_sg:,.2f}\")\n",
        "    print(\"-\" * 40)"
      ],
      "metadata": {
        "colab": {
          "base_uri": "https://localhost:8080/"
        },
        "id": "6-AOas6GbbkO",
        "outputId": "0d195d41-f82b-4fd3-83b1-505333d6940a"
      },
      "execution_count": null,
      "outputs": [
        {
          "output_type": "stream",
          "name": "stdout",
          "text": [
            "============================================================\n",
            "Análise Detalhada dos Subgrupos de Maior Impacto\n",
            "============================================================\n",
            "Média Global: R$ 1,564.47\n",
            "Qualidade: 139102.674 | Subgrupo: CREDIT_LIMIT>=7000.0 AND MINIMUM_PAYMENTS>=994.39\n",
            "   > Tamanho: 803 cartões\n",
            "   > Média do Subgrupo: R$ 6,473.30\n",
            "----------------------------------------\n",
            "Qualidade: 138515.067 | Subgrupo: BALANCE_FREQUENCY>=1.0 AND CREDIT_LIMIT>=7000.0 AND MINIMUM_PAYMENTS>=994.39\n",
            "   > Tamanho: 740 cartões\n",
            "   > Média do Subgrupo: R$ 6,656.39\n",
            "----------------------------------------\n",
            "Qualidade: 135067.097 | Subgrupo: CREDIT_LIMIT>=7000.0 AND MINIMUM_PAYMENTS>=994.39 AND PRC_FULL_PAYMENT: [0.0:0.08[\n",
            "   > Tamanho: 708 cartões\n",
            "   > Média do Subgrupo: R$ 6,640.61\n",
            "----------------------------------------\n",
            "Qualidade: 133420.287 | Subgrupo: CREDIT_LIMIT>=7000.0 AND MINIMUM_PAYMENTS>=994.39 AND TENURE>=12\n",
            "   > Tamanho: 726 cartões\n",
            "   > Média do Subgrupo: R$ 6,516.17\n",
            "----------------------------------------\n",
            "Qualidade: 122549.928 | Subgrupo: MINIMUM_PAYMENTS>=994.39\n",
            "   > Tamanho: 1,790 cartões\n",
            "   > Média do Subgrupo: R$ 4,461.06\n",
            "----------------------------------------\n",
            "Qualidade: 122376.467 | Subgrupo: BALANCE_FREQUENCY>=1.0 AND MINIMUM_PAYMENTS>=994.39\n",
            "   > Tamanho: 1,643 cartões\n",
            "   > Média do Subgrupo: R$ 4,583.59\n",
            "----------------------------------------\n",
            "Qualidade: 121422.545 | Subgrupo: MINIMUM_PAYMENTS>=994.39 AND PRC_FULL_PAYMENT: [0.0:0.08[\n",
            "   > Tamanho: 1,571 cartões\n",
            "   > Média do Subgrupo: R$ 4,627.93\n",
            "----------------------------------------\n",
            "Qualidade: 121252.174 | Subgrupo: BALANCE_FREQUENCY>=1.0 AND MINIMUM_PAYMENTS>=994.39 AND PRC_FULL_PAYMENT: [0.0:0.08[\n",
            "   > Tamanho: 1,452 cartões\n",
            "   > Média do Subgrupo: R$ 4,746.52\n",
            "----------------------------------------\n",
            "Qualidade: 119481.953 | Subgrupo: CASH_ADVANCE>=1576.49 AND CREDIT_LIMIT>=7000.0 AND MINIMUM_PAYMENTS>=994.39\n",
            "   > Tamanho: 538 cartões\n",
            "   > Média do Subgrupo: R$ 6,715.71\n",
            "----------------------------------------\n",
            "Qualidade: 118723.539 | Subgrupo: BALANCE_FREQUENCY>=1.0 AND MINIMUM_PAYMENTS>=994.39 AND TENURE>=12\n",
            "   > Tamanho: 1,537 cartões\n",
            "   > Média do Subgrupo: R$ 4,592.78\n",
            "----------------------------------------\n"
          ]
        }
      ]
    },
    {
      "cell_type": "markdown",
      "source": [],
      "metadata": {
        "id": "Q9XiXNd3baVd"
      }
    }
  ]
}